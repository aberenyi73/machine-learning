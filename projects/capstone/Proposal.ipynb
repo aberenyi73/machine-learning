{
 "cells": [
  {
   "cell_type": "markdown",
   "metadata": {},
   "source": [
    "# Capstone Project Proposal - Predicting Loan write-offs from LendingTree data set \n",
    "\n",
    "[LendingClub.com](https://www.lendingclub.com/) is a peer-to-peer loan\n",
    "This project aims at predicting what features will predict that a load will default.  \n",
    "\n",
    "You can obtain statistical information about LendingClub from theis web site at https://www.lendingclub.com/info/statistics.action. \n",
    "\n",
    "The data sets can be downloaded from https://www.lendingclub.com/info/download-data.action\n",
    "\n",
    "The data investigated is for the time period `Q4 2007`. \n",
    "\n",
    "The data is contained in the zip file [LoanStats_2017Q4.csv.zip](https://resources.lendingclub.com/LoanStats_2017Q4.csv.zip) The zip file size is 20,272kb.\n",
    "\n",
    "It is downloaded and unzipped to LoanStats_securev1_2017Q4.csv. The unzipped file is 109,3 MB.\n",
    "\n",
    "The files contain complete loan data for all loans issued through the time period stated, including the current loan status (Current, Late, Fully Paid, etc.) and latest payment information. The file containing loan data through the \"present\" contains complete loan data for all loans issued through the previous completed calendar quarter. Sign in to download the full version of the files.\n",
    "\n",
    "The data dictionary is downloaded from the link https://resources.lendingclub.com/LCDataDictionary.xlsx\n",
    "\n",
    "I intend to find the characteristics of the loan that will make it a likely candidate for defaulting. I intend to compare a DecisionTree, NaiveBayes, KNN and clustering models. \n"
   ]
  },
  {
   "cell_type": "code",
   "execution_count": null,
   "metadata": {},
   "outputs": [],
   "source": []
  },
  {
   "cell_type": "code",
   "execution_count": null,
   "metadata": {},
   "outputs": [],
   "source": []
  },
  {
   "cell_type": "code",
   "execution_count": null,
   "metadata": {},
   "outputs": [],
   "source": []
  }
 ],
 "metadata": {
  "kernelspec": {
   "display_name": "Python 3",
   "language": "python",
   "name": "python3"
  },
  "language_info": {
   "codemirror_mode": {
    "name": "ipython",
    "version": 3
   },
   "file_extension": ".py",
   "mimetype": "text/x-python",
   "name": "python",
   "nbconvert_exporter": "python",
   "pygments_lexer": "ipython3",
   "version": "3.6.3"
  }
 },
 "nbformat": 4,
 "nbformat_minor": 2
}
